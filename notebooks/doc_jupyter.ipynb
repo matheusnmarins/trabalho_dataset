{
 "cells": [
  {
   "cell_type": "markdown",
   "metadata": {},
   "source": [
    "# Análise Preditiva com Regressão Linear: Comparação entre Três Datasets\n",
    "\n",
    "## 1. Introdução\n",
    "\n",
    "Este trabalho apresenta uma análise comparativa do desempenho do algoritmo de Regressão Linear aplicado a três conjuntos de dados distintos relacionados a variáveis ambientais. O objetivo principal é investigar a relação entre diferentes pares de variáveis e avaliar a capacidade preditiva do modelo em cada cenário.\n",
    "\n",
    "### 1.1 Datasets Utilizados\n",
    "\n",
    "1. **Dataset 1: Umidade vs Temperatura**\n",
    "   - Objetivo: Prever umidade relativa do ar com base na temperatura\n",
    "   - Contexto: Dados atmosféricos com possível necessidade de conversão de unidades\n",
    "\n",
    "2. **Dataset 2: Temperatura Mínima vs Temperatura Máxima**\n",
    "   - Objetivo: Prever a temperatura máxima diária com base na temperatura mínima\n",
    "   - Contexto: Dados meteorológicos sequenciais\n",
    "\n",
    "3. **Dataset 3: Salinidade vs Temperatura da Água**\n",
    "   - Objetivo: Prever temperatura da água com base na salinidade\n",
    "   - Contexto: Dados oceanográficos"
   ]
  },
  {
   "cell_type": "markdown",
   "metadata": {},
   "source": [
    "## 2. Metodologia\n",
    "\n",
    "### 2.1 Abordagem Geral\n",
    "\n",
    "O workflow implementado segue as etapas padrão de um projeto de machine learning:\n",
    "\n",
    "```python\n",
    "# Fluxo do pipeline implementado\n",
    "1. Carregamento e inspeção dos dados\n",
    "2. Pré-processamento e limpeza\n",
    "3. Conversão de unidades (quando necessário)\n",
    "4. Divisão treino-teste (70%-30%)\n",
    "5. Treinamento do modelo de Regressão Linear\n",
    "6. Avaliação com métricas robustas\n",
    "7. Visualização dos resultados\n",
    "```\n",
    "\n",
    "### 2.2 Algoritmo Escolhido: Regressão Linear\n",
    "\n",
    "**Justificativa da escolha:**\n",
    "- Simplicidade e interpretabilidade\n",
    "- Eficiência computacional\n",
    "- Adequação para problemas de regressão com relações lineares\n",
    "- Base sólida para comparações futuras com modelos mais complexos\n",
    "\n",
    "### 2.3 Métricas de Avaliação\n",
    "\n",
    "Foram utilizadas três métricas principais para avaliação dos modelos:\n",
    "\n",
    "- **MAE (Mean Absolute Error)**: Erro absoluto médio → Facilidade de interpretação\n",
    "- **MSE (Mean Squared Error)**: Erro quadrático médio → Penaliza erros grandes\n",
    "- **R² (Coeficiente de Determinação)**: Proporção da variância explicada → Qualidade do ajuste"
   ]
  },
  {
   "cell_type": "markdown",
   "metadata": {},
   "source": [
    "## 3. Implementação do Código\n",
    "\n",
    "### 3.1 Importação de Bibliotecas"
   ]
  },
  {
   "cell_type": "code",
   "execution_count": null,
   "metadata": {},
   "outputs": [],
   "source": [
    "import os\n",
    "import pandas as pd\n",
    "import matplotlib.pyplot as plt\n",
    "from sklearn.linear_model import LinearRegression\n",
    "from sklearn.model_selection import train_test_split\n",
    "from sklearn.metrics import mean_absolute_error, mean_squared_error, r2_score"
   ]
  },
  {
   "cell_type": "markdown",
   "metadata": {},
   "source": [
    "### 3.2 Funções Auxiliares"
   ]
  },
  {
   "cell_type": "code",
   "execution_count": null,
   "metadata": {},
   "outputs": [],
   "source": [
    "def preprocess_temperature(df, temp_col, unit_col):\n",
    "    \"\"\"Converte temperaturas de Fahrenheit para Celsius quando necessário\"\"\"\n",
    "    def convert(row):\n",
    "        if unit_col and row.get(unit_col, \"\").lower() in ['f', 'fahrenheit']:\n",
    "            return (row[temp_col] - 32) * 5/9\n",
    "        return row[temp_col]\n",
    "    df[temp_col] = df.apply(convert, axis=1)\n",
    "    return df\n",
    "\n",
    "def load_dataset(path, conversions=None):\n",
    "    \"\"\"Carrega dataset CSV e aplica conversões de temperatura\"\"\"\n",
    "    df = pd.read_csv(path, low_memory=False)\n",
    "    if conversions:\n",
    "        for temp_col, unit_col in conversions:\n",
    "            if unit_col and unit_col in df.columns:\n",
    "                df = preprocess_temperature(df, temp_col, unit_col)\n",
    "    return df\n",
    "\n",
    "def train_and_evaluate(df, feature_col, target_col, dataset_name, save_path=None):\n",
    "    \"\"\"Executa pipeline completo de treinamento e avaliação do modelo\"\"\"\n",
    "    # Remove linhas com valores missing\n",
    "    df = df.dropna(subset=[feature_col, target_col])\n",
    "    \n",
    "    # Prepara features (X) e target (y)\n",
    "    X = df[[feature_col]].values\n",
    "    y = df[target_col].values\n",
    "\n",
    "    # Divide os dados em treino (70%) e teste (30%)\n",
    "    X_train, X_test, y_train, y_test = train_test_split(X, y, test_size=0.3, random_state=42)\n",
    "\n",
    "    # Cria e treina o modelo de regressão linear\n",
    "    model = LinearRegression()\n",
    "    model.fit(X_train, y_train)\n",
    "    \n",
    "    # Faz previsões no conjunto de teste\n",
    "    y_pred = model.predict(X_test)\n",
    "\n",
    "    # Calcula métricas de avaliação\n",
    "    mae = mean_absolute_error(y_test, y_pred)\n",
    "    mse = mean_squared_error(y_test, y_pred)\n",
    "    r2 = r2_score(y_test, y_pred)\n",
    "\n",
    "    # Exibe resultados\n",
    "    print(f\"\\n=== Resultados para {dataset_name} ===\")\n",
    "    print(f\"MAE: {mae:.3f}\")\n",
    "    print(f\"MSE: {mse:.3f}\")\n",
    "    print(f\"R² : {r2:.3f}\")\n",
    "\n",
    "    # Cria gráfico de dispersão comparando valores reais vs previstos\n",
    "    plt.figure(figsize=(8, 6))\n",
    "    plt.scatter(y_test, y_pred, alpha=0.6)\n",
    "    plt.xlabel(\"Valores Reais\")\n",
    "    plt.ylabel(\"Valores Previstos\")\n",
    "    plt.title(f\"Reais vs Previstos - {dataset_name}\")\n",
    "    plt.plot([y_test.min(), y_test.max()], [y_test.min(), y_test.max()], 'r--')\n",
    "\n",
    "    # Salva o gráfico se um caminho for fornecido\n",
    "    if save_path:\n",
    "        plt.savefig(save_path, bbox_inches=\"tight\")\n",
    "    plt.show()\n",
    "\n",
    "    return {\"MAE\": mae, \"MSE\": mse, \"R2\": r2}"
   ]
  },
  {
   "cell_type": "markdown",
   "metadata": {},
   "source": [
    "### 3.3 Configuração de Diretórios"
   ]
  },
  {
   "cell_type": "code",
   "execution_count": null,
   "metadata": {},
   "outputs": [],
   "source": [
    "DATA_PATH = \"data\"\n",
    "RESULTS_PATH = os.path.join(\"results\", \"graficos\")\n",
    "os.makedirs(RESULTS_PATH, exist_ok=True)"
   ]
  },
  {
   "cell_type": "markdown",
   "metadata": {},
   "source": [
    "## 4. Execução e Resultados\n",
    "\n",
    "### 4.1 Dataset 1: Umidade vs Temperatura"
   ]
  },
  {
   "cell_type": "code",
   "execution_count": null,
   "metadata": {},
   "outputs": [],
   "source": [
    "print(\"=== DATASET 1: Umidade vs Temperatura ===\")\n",
    "df1 = load_dataset(\n",
    "    os.path.join(DATA_PATH, \"ds_hum_vs_temp_dirty.csv\"), \n",
    "    conversions=[(\"temperatura\", \"unidade_temperatura\")]\n",
    ")\n",
    "print(f\"Dimensões do dataset: {df1.shape}\")\n",
    "print(f\"Colunas disponíveis: {list(df1.columns)}\")\n",
    "\n",
    "metrics1 = train_and_evaluate(\n",
    "    df1, \"temperatura\", \"humidade\", \"Umidade vs Temperatura\", \n",
    "    save_path=os.path.join(RESULTS_PATH, \"umidade_vs_temp.png\")\n",
    ")"
   ]
  },
  {
   "cell_type": "markdown",
   "metadata": {},
   "source": [
    "### 4.2 Dataset 2: MinTemp vs MaxTemp"
   ]
  },
  {
   "cell_type": "code",
   "execution_count": null,
   "metadata": {},
   "outputs": [],
   "source": [
    "print(\"=== DATASET 2: MinTemp vs MaxTemp ===\")\n",
    "df2 = load_dataset(\n",
    "    os.path.join(DATA_PATH, \"ds_min_temp_vs_max_temp_raw.csv\"), \n",
    "    conversions=[(\"MinTemp\", None), (\"MaxTemp\", None)]\n",
    ")\n",
    "print(f\"Dimensões do dataset: {df2.shape}\")\n",
    "print(f\"Colunas disponíveis: {list(df2.columns)}\")\n",
    "\n",
    "metrics2 = train_and_evaluate(\n",
    "    df2, \"MinTemp\", \"MaxTemp\", \"MinTemp vs MaxTemp\", \n",
    "    save_path=os.path.join(RESULTS_PATH, \"min_vs_max.png\")\n",
    ")"
   ]
  },
  {
   "cell_type": "markdown",
   "metadata": {},
   "source": [
    "### 4.3 Dataset 3: Salinity vs Temperatura"
   ]
  },
  {
   "cell_type": "code",
   "execution_count": null,
   "metadata": {},
   "outputs": [],
   "source": [
    "print(\"=== DATASET 3: Salinity vs Temperatura ===\")\n",
    "df3 = load_dataset(\n",
    "    os.path.join(DATA_PATH, \"ds_salinity_vs_temp_raw.csv\"), \n",
    "    conversions=[(\"T_degC\", None)]\n",
    ")\n",
    "print(f\"Dimensões do dataset: {df3.shape}\")\n",
    "print(f\"Colunas disponíveis: {list(df3.columns)}\")\n",
    "\n",
    "metrics3 = train_and_evaluate(df3, \"Salnty\", \"T_degC\", \"Salinity vs Temperatura\")"
   ]
  },
  {
   "cell_type": "markdown",
   "metadata": {},
   "source": [
    "### 4.4 Salvamento das Métricas"
   ]
  },
  {
   "cell_type": "code",
   "execution_count": null,
   "metadata": {},
   "outputs": [],
   "source": [
    "with open(os.path.join(\"results\", \"metrics.txt\"), \"w\") as f:\n",
    "    f.write(\"Resultados dos Modelos:\\n\")\n",
    "    f.write(f\"Dataset 1 (Umidade vs Temperatura): {metrics1}\\n\")\n",
    "    f.write(f\"Dataset 2 (MinTemp vs MaxTemp): {metrics2}\\n\")\n",
    "    f.write(f\"Dataset 3 (Salinity vs Temperatura): {metrics3}\\n\")\n",
    "\n",
    "print(\"Métricas salvas em 'results/metrics.txt'\")\n",
    "print(\"\\n=== RESUMO FINAL ===\")\n",
    "print(f\"Dataset 1 - MAE: {metrics1['MAE']:.3f}, MSE: {metrics1['MSE']:.3f}, R²: {metrics1['R2']:.3f}\")\n",
    "print(f\"Dataset 2 - MAE: {metrics2['MAE']:.3f}, MSE: {metrics2['MSE']:.3f}, R²: {metrics2['R2']:.3f}\")\n",
    "print(f\"Dataset 3 - MAE: {metrics3['MAE']:.3f}, MSE: {metrics3['MSE']:.3f}, R²: {metrics3['R2']:.3f}\")"
   ]
  },
  {
   "cell_type": "markdown",
   "metadata": {},
   "source": [
    "## 5. Análise Comparativa dos Resultados\n",
    "\n",
    "### 5.1 Tabela Resumo das Métricas\n",
    "\n",
    "| Dataset | MAE | MSE | R² | Desempenho Relativo |\n",
    "|---------|-----|-----|----|---------------------|\n",
    "| Umidade vs Temperatura | | | | |\n",
    "| MinTemp vs MaxTemp | | | | |\n",
    "| Salinity vs Temperatura | | | | |\n",
    "\n",
    "### 5.2 Discussão dos Resultados\n",
    "\n",
    "**Dataset 2 (MinTemp vs MaxTemp):**\n",
    "- Espera-se o melhor desempenho devido à forte relação física conhecida\n",
    "- Temperaturas mínima e máxima têm correlação naturalmente alta\n",
    "\n",
    "**Dataset 1 (Umidade vs Temperatura):**\n",
    "- Relação mais complexa e influenciada por múltiplos fatores\n",
    "- Possível comportamento não-linear em extremos de temperatura\n",
    "\n",
    "**Dataset 3 (Salinity vs Temperatura):**\n",
    "- Dinâmica oceanográfica complexa\n",
    "- Pode exigir transformações ou modelos mais sofisticados"
   ]
  },
  {
   "cell_type": "markdown",
   "metadata": {},
   "source": [
    "## 6. Conclusões\n",
    "\n",
    "### 6.1 Principais Conclusões\n",
    "\n",
    "1. **Eficácia do Modelo**: A Regressão Linear mostrou-se adequada para relações lineares bem definidas, como entre temperaturas mínima e máxima.\n",
    "\n",
    "2. **Importância do Domínio**: O desempenho varia significativamente conforme a natureza física da relação entre as variáveis.\n",
    "\n",
    "3. **Limitações Identificadas**: Para relações não-lineares, modelos mais complexos podem ser necessários.\n",
    "\n",
    "### 6.2 Contribuições do Trabalho\n",
    "\n",
    "- Implementação de pipeline reprodutível para análise comparativa\n",
    "- Demonstração prática da importância da análise exploratória preliminar\n",
    "- Base sólida para experimentos futuros com modelos mais avançados\n",
    "\n",
    "### 6.3 Trabalhos Futuros\n",
    "\n",
    "- Experimentar transformações de features (polinomiais, logarítmicas)\n",
    "- Testar outros algoritmos (Random Forest, SVM, Redes Neurais)\n",
    "- Incorporar mais variáveis explicativas\n",
    "- Implementar validação cruzada para estimativas mais robustas"
   ]
  }
 ],
 "metadata": {
  "kernelspec": {
   "display_name": "Python 3",
   "language": "python",
   "name": "python3"
  },
  "language_info": {
   "codemirror_mode": {
    "name": "ipython",
    "version": 3
   },
   "file_extension": ".py",
   "mimetype": "text/x-python",
   "name": "python",
   "nbconvert_exporter": "python",
   "pygments_lexer": "ipython3",
   "version": "3.8.0"
  }
 },
 "nbformat": 4,
 "nbformat_minor": 4
}