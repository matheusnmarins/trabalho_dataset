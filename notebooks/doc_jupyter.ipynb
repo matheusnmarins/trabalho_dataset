{
 "cells": [
  {
   "cell_type": "markdown",
   "metadata": {},
   "source": [
    "# Análise Preditiva com Regressão Linear: Comparação entre Três Datasets\n",
    "\n",
    "## 1. Introdução\n",
    "\n",
    "Este trabalho apresenta uma análise comparativa do desempenho do algoritmo de Regressão Linear aplicado a três conjuntos de dados distintos relacionados a variáveis ambientais. O objetivo principal é investigar a relação entre diferentes pares de variáveis e avaliar a capacidade preditiva do modelo em cada cenário.\n",
    "\n",
    "### 1.1 Datasets Utilizados\n",
    "\n",
    "1. **Dataset 1: Umidade vs Temperatura**\n",
    "   - Objetivo: Prever umidade relativa do ar com base na temperatura\n",
    "   - Contexto: Dados atmosféricos com possível necessidade de conversão de unidades\n",
    "\n",
    "2. **Dataset 2: Temperatura Mínima vs Temperatura Máxima**\n",
    "   - Objetivo: Prever a temperatura máxima diária com base na temperatura mínima\n",
    "   - Contexto: Dados meteorológicos sequenciais\n",
    "\n",
    "3. **Dataset 3: Salinidade vs Temperatura da Água**\n",
    "   - Objetivo: Prever temperatura da água com base na salinidade\n",
    "   - Contexto: Dados oceanográficos"
   ]
  },
  {
   "cell_type": "markdown",
   "metadata": {},
   "source": [
    "## 2. Metodologia\n",
    "\n",
    "### 2.1 Abordagem Geral\n",
    "\n",
    "O workflow implementado segue as etapas padrão de um projeto de machine learning:\n",
    "\n",
    "```python\n",
    "# Fluxo do pipeline implementado\n",
    "1. Carregamento e inspeção dos dados\n",
    "2. Pré-processamento e limpeza\n",
    "3. Conversão de unidades (quando necessário)\n",
    "4. Divisão treino-teste (70%-30%)\n",
    "5. Treinamento do modelo de Regressão Linear\n",
    "6. Avaliação com métricas robustas\n",
    "7. Visualização dos resultados\n",
    "```\n",
    "\n",
    "### 2.2 Algoritmo Escolhido: Regressão Linear\n",
    "\n",
    "**Justificativa da escolha:**\n",
    "- Simplicidade e interpretabilidade\n",
    "- Eficiência computacional\n",
    "- Adequação para problemas de regressão com relações lineares\n",
    "- Base sólida para comparações futuras com modelos mais complexos\n",
    "\n",
    "### 2.3 Métricas de Avaliação\n",
    "\n",
    "Foram utilizadas três métricas principais para avaliação dos modelos:\n",
    "\n",
    "- **MAE (Mean Absolute Error)**: Erro absoluto médio → Facilidade de interpretação\n",
    "- **MSE (Mean Squared Error)**: Erro quadrático médio → Penaliza erros grandes\n",
    "- **R² (Coeficiente de Determinação)**: Proporção da variância explicada → Qualidade do ajuste"
   ]
  },
  {
   "cell_type": "markdown",
   "metadata": {},
   "source": [
    "## 3. Implementação do Código\n",
    "\n",
    "### 3.1 Importação de Bibliotecas"
   ]
  },
  {
   "cell_type": "code",
   "execution_count": null,
   "metadata": {},
   "outputs": [],
   "source": [
    "import os\n",
    "import pandas as pd\n",
    "import matplotlib.pyplot as plt\n",
    "from sklearn.linear_model import LinearRegression\n",
    "from sklearn.model_selection import train_test_split\n",
    "from sklearn.metrics import mean_absolute_error, mean_squared_error, r2_score"
   ]
  },
  {
   "cell_type": "markdown",
   "metadata": {},
   "source": [
    "Este bloco importa todas as bibliotecas necessárias para o projeto. `os` é usado para operações de sistema de arquivos, `pandas` para manipulação de dados, `matplotlib` para visualizações gráficas, e as funções do `scikit-learn` para implementar o modelo de regressão linear, divisão de dados e cálculo de métricas de avaliação."
   ]
  },
  {
   "cell_type": "markdown",
   "metadata": {},
   "source": [
    "### 3.2 Funções Auxiliares"
   ]
  },
  {
   "cell_type": "code",
   "execution_count": null,
   "metadata": {},
   "outputs": [],
   "source": [
    "def preprocess_temperature(df, temp_col, unit_col):\n",
    "    \"\"\"Converte temperaturas de Fahrenheit para Celsius quando necessário\"\"\"\n",
    "    def convert(row):\n",
    "        if unit_col and row.get(unit_col, \"\").lower() in ['f', 'fahrenheit']:\n",
    "            return (row[temp_col] - 32) * 5/9\n",
    "        return row[temp_col]\n",
    "    df[temp_col] = df.apply(convert, axis=1)\n",
    "    return df"
   ]
  },
  {
   "cell_type": "markdown",
   "metadata": {},
   "source": [
    "A função `preprocess_temperature` é responsável por padronizar as temperaturas para Celsius. Ela verifica se a unidade especificada na coluna `unit_col` é Fahrenheit e, se for, aplica a fórmula de conversão (F - 32) × 5/9. A função é aplicada linha por linha no DataFrame usando `apply(axis=1)`."
   ]
  },
  {
   "cell_type": "code",
   "execution_count": null,
   "metadata": {},
   "outputs": [],
   "source": [
    "def load_dataset(path, conversions=None):\n",
    "    \"\"\"Carrega dataset CSV e aplica conversões de temperatura\"\"\"\n",
    "    df = pd.read_csv(path, low_memory=False)\n",
    "    if conversions:\n",
    "        for temp_col, unit_col in conversions:\n",
    "            if unit_col and unit_col in df.columns:\n",
    "                df = preprocess_temperature(df, temp_col, unit_col)\n",
    "    return df"
   ]
  },
  {
   "cell_type": "markdown",
   "metadata": {},
   "source": [
    "A função `load_dataset` carrega um arquivo CSV e aplica as conversões de temperatura especificadas. O parâmetro `low_memory=False` evita problemas com tipos de dados mistos. A função itera sobre a lista de conversões e aplica a função `preprocess_temperature` para cada par de colunas de temperatura e unidade."
   ]
  },
  {
   "cell_type": "code",
   "execution_count": null,
   "metadata": {},
   "outputs": [],
   "source": [
    "def train_and_evaluate(df, feature_col, target_col, dataset_name, save_path=None):\n",
    "    \"\"\"Executa pipeline completo de treinamento e avaliação do modelo\"\"\"\n",
    "    # Remove linhas com valores missing nas colunas relevantes\n",
    "    df = df.dropna(subset=[feature_col, target_col])\n",
    "    \n",
    "    # Prepara features (X) e target (y) - formato 2D exigido pelo scikit-learn\n",
    "    X = df[[feature_col]].values\n",
    "    y = df[target_col].values\n",
    "\n",
    "    # Divide os dados em treino (70%) e teste (30%) com random_state=42 para reproduibilidade\n",
    "    X_train, X_test, y_train, y_test = train_test_split(X, y, test_size=0.3, random_state=42)\n",
    "\n",
    "    # Cria e treina o modelo de regressão linear\n",
    "    model = LinearRegression()\n",
    "    model.fit(X_train, y_train)\n",
    "    \n",
    "    # Faz previsões no conjunto de teste\n",
    "    y_pred = model.predict(X_test)\n",
    "\n",
    "    # Calcula métricas de avaliação\n",
    "    mae = mean_absolute_error(y_test, y_pred)   # Erro absoluto médio (fácil interpretação)\n",
    "    mse = mean_squared_error(y_test, y_pred)    # Erro quadrático médio (penaliza erros grandes)\n",
    "    r2 = r2_score(y_test, y_pred)               # Coeficiente de determinação (0-1, quanto maior melhor)\n",
    "\n",
    "    # Exibe resultados\n",
    "    print(f\"\\n=== Resultados para {dataset_name} ===\")\n",
    "    print(f\"MAE: {mae:.3f}\")\n",
    "    print(f\"MSE: {mse:.3f}\")\n",
    "    print(f\"R² : {r2:.3f}\")\n",
    "\n",
    "    # Cria gráfico de dispersão comparando valores reais vs previstos\n",
    "    plt.figure(figsize=(8, 6))\n",
    "    plt.scatter(y_test, y_pred, alpha=0.6)\n",
    "    plt.xlabel(\"Valores Reais\")\n",
    "    plt.ylabel(\"Valores Previstos\")\n",
    "    plt.title(f\"Reais vs Previstos - {dataset_name}\")\n",
    "    # Linha vermelha tracejada representa previsões perfeitas\n",
    "    plt.plot([y_test.min(), y_test.max()], [y_test.min(), y_test.max()], 'r--')\n",
    "\n",
    "    # Salva o gráfico se um caminho for fornecido\n",
    "    if save_path:\n",
    "        plt.savefig(save_path, bbox_inches=\"tight\")\n",
    "    plt.show()\n",
    "\n",
    "    return {\"MAE\": mae, \"MSE\": mse, \"R2\": r2}"
   ]
  },
  {
   "cell_type": "markdown",
   "metadata": {},
   "source": [
    "\n",
    "A função `train_and_evaluate`  implementa todo o pipeline de machine learning. Ela remove valores missing, prepara os dados no formato correto, divide em conjuntos de treino e teste, treina o modelo de regressão linear, faz previsões, calcula métricas de avaliação e gera visualizações. A função retorna um dicionário com as métricas calculadas."
   ]
  },
  {
   "cell_type": "markdown",
   "metadata": {},
   "source": [
    "### 3.3 Configuração de Diretórios"
   ]
  },
  {
   "cell_type": "code",
   "execution_count": null,
   "metadata": {},
   "outputs": [],
   "source": [
    "DATA_PATH = \"data\"\n",
    "RESULTS_PATH = os.path.join(\"results\", \"graficos\")\n",
    "os.makedirs(RESULTS_PATH, exist_ok=True)"
   ]
  },
  {
   "cell_type": "markdown",
   "metadata": {},
   "source": [
    "Este bloco configura os caminhos dos diretórios utilizados no projeto. `DATA_PATH` define onde estão os arquivos de dados, `RESULTS_PATH` define onde serão salvos os gráficos gerados. A função `os.makedirs` cria a estrutura de diretórios necessária, onde `exist_ok=True` evita erros se os diretórios já existirem."
   ]
  },
  {
   "cell_type": "markdown",
   "metadata": {},
   "source": [
    "## 4. Execução e Resultados\n",
    "\n",
    "### 4.1 Dataset 1: Umidade vs Temperatura"
   ]
  },
  {
   "cell_type": "code",
   "execution_count": null,
   "metadata": {},
   "outputs": [],
   "source": [
    "print(\"=== DATASET 1: Umidade vs Temperatura ===\")\n",
    "print(\"Carregando e pré-processando dados...\")\n",
    "df1 = load_dataset(\n",
    "    os.path.join(DATA_PATH, \"ds_hum_vs_temp_dirty.csv\"), \n",
    "    conversions=[(\"temperatura\", \"unidade_temperatura\")]  # Conversão Fahrenheit para Celsius\n",
    ")\n",
    "print(f\"Dimensões do dataset: {df1.shape}\")\n",
    "print(f\"Colunas disponíveis: {list(df1.columns)}\")\n",
    "print(f\"Primeiras 5 linhas:\\n{df1.head()}\")\n",
    "\n",
    "print(\"\\nTreinando modelo e avaliando resultados...\")\n",
    "metrics1 = train_and_evaluate(\n",
    "    df1, \"temperatura\", \"humidade\", \"Umidade vs Temperatura\", \n",
    "    save_path=os.path.join(RESULTS_PATH, \"umidade_vs_temp.png\")\n",
    ")"
   ]
  },
  {
   "cell_type": "markdown",
   "metadata": {},
   "source": [
    "Este código executa a análise para o Dataset 1. Carrega o arquivo CSV especificando a conversão de temperatura necessária, exibe informações sobre os dados carregados (dimensões, colunas e primeiras linhas), e chama a função `train_and_evaluate` para treinar o modelo e gerar resultados. O gráfico é salvo no diretório de resultados."
   ]
  },
  {
   "cell_type": "markdown",
   "metadata": {},
   "source": [
    "### 4.2 Dataset 2: MinTemp vs MaxTemp"
   ]
  },
  {
   "cell_type": "code",
   "execution_count": null,
   "metadata": {},
   "outputs": [],
   "source": [
    "print(\"=== DATASET 2: MinTemp vs MaxTemp ===\")\n",
    "print(\"Carregando e pré-processando dados...\")\n",
    "df2 = load_dataset(\n",
    "    os.path.join(DATA_PATH, \"ds_min_temp_vs_max_temp_raw.csv\"), \n",
    "    conversions=[(\"MinTemp\", None), (\"MaxTemp\", None)]  # Sem conversão necessária\n",
    ")\n",
    "print(f\"Dimensões do dataset: {df2.shape}\")\n",
    "print(f\"Colunas disponíveis: {list(df2.columns)}\")\n",
    "print(f\"Primeiras 5 linhas:\\n{df2.head()}\")\n",
    "\n",
    "print(\"\\nTreinando modelo e avaliando resultados...\")\n",
    "metrics2 = train_and_evaluate(\n",
    "    df2, \"MinTemp\", \"MaxTemp\", \"MinTemp vs MaxTemp\", \n",
    "    save_path=os.path.join(RESULTS_PATH, \"min_vs_max.png\")\n",
    ")"
   ]
  },
  {
   "cell_type": "markdown",
   "metadata": {},
   "source": [
    "Este bloco processa o Dataset 2, que não requer conversão de unidades (indicado por `None`). Segue o mesmo fluxo do Dataset 1: carregamento, exibição de informações básicas e execução do pipeline completo de modelagem. Espera-se que este dataset tenha melhor desempenho devido à forte correlação natural entre temperaturas mínima e máxima."
   ]
  },
  {
   "cell_type": "markdown",
   "metadata": {},
   "source": [
    "### 4.3 Dataset 3: Salinity vs Temperatura"
   ]
  },
  {
   "cell_type": "code",
   "execution_count": null,
   "metadata": {},
   "outputs": [],
   "source": [
    "print(\"=== DATASET 3: Salinity vs Temperatura ===\")\n",
    "print(\"Carregando e pré-processando dados...\")\n",
    "df3 = load_dataset(\n",
    "    os.path.join(DATA_PATH, \"ds_salinity_vs_temp_raw.csv\"), \n",
    "    conversions=[(\"T_degC\", None)]  # Já está em Celsius\n",
    ")\n",
    "print(f\"Dimensões do dataset: {df3.shape}\")\n",
    "print(f\"Colunas disponíveis: {list(df3.columns)}\")\n",
    "print(f\"Primeiras 5 linhas:\\n{df3.head()}\")\n",
    "\n",
    "print(\"\\nTreinando modelo e avaliando resultados...\")\n",
    "metrics3 = train_and_evaluate(df3, \"Salnty\", \"T_degC\", \"Salinity vs Temperatura\")"
   ]
  },
  {
   "cell_type": "markdown",
   "metadata": {},
   "source": [
    "Este código processa o Dataset 3 com dados oceanográficos. A temperatura já está em Celsius (`T_degC`), portanto não requer conversão. O modelo tenta prever a temperatura da água com base na salinidade. A relação entre estas variáveis é mais complexa e pode apresentar desafios para o modelo linear."
   ]
  },
  {
   "cell_type": "markdown",
   "metadata": {},
   "source": [
    "### 4.4 Salvamento das Métricas"
   ]
  },
  {
   "cell_type": "code",
   "execution_count": null,
   "metadata": {},
   "outputs": [],
   "source": [
    "print(\"=== SALVAMENTO DOS RESULTADOS ===\")\n",
    "\n",
    "# Salva métricas em arquivo texto\n",
    "with open(os.path.join(\"results\", \"metrics.txt\"), \"w\") as f:\n",
    "    f.write(\"Resultados dos Modelos de Regressão Linear\\n\")\n",
    "    f.write(\"=\" * 50 + \"\\n\")\n",
    "    f.write(f\"Dataset 1 (Umidade vs Temperatura): {metrics1}\\n\")\n",
    "    f.write(f\"Dataset 2 (MinTemp vs MaxTemp): {metrics2}\\n\")\n",
    "    f.write(f\"Dataset 3 (Salinity vs Temperatura): {metrics3}\\n\")\n",
    "\n",
    "print(\"Métricas salvas em 'results/metrics.txt'\")\n",
    "\n",
    "# Exibe resumo comparativo\n",
    "print(\"\\n=== RESUMO COMPARATIVO ===\")\n",
    "print(\"Dataset                 |   MAE   |   MSE   |   R²   \")\n",
    "print(\"-\" * 50)\n",
    "print(f\"Umidade vs Temperatura | {metrics1['MAE']:7.3f} | {metrics1['MSE']:7.3f} | {metrics1['R2']:6.3f}\")\n",
    "print(f\"MinTemp vs MaxTemp     | {metrics2['MAE']:7.3f} | {metrics2['MSE']:7.3f} | {metrics2['R2']:6.3f}\")\n",
    "print(f\"Salinity vs Temperatura| {metrics3['MAE']:7.3f} | {metrics3['MSE']:7.3f} | {metrics3['R2']:6.3f}\")"
   ]
  },
  {
   "cell_type": "markdown",
   "metadata": {},
   "source": [
    "Este bloco final salva todas as métricas calculadas em um arquivo texto para documentação e análise posterior. Além disso, exibe um resumo comparativo formatado em tabela no console, permitindo uma visualização rápida do desempenho dos três modelos. A formatação com espaçamento fixo (`:7.3f` e `:6.3f`) garante que os valores fiquem alinhados na tabela."
   ]
  },
  {
   "cell_type": "markdown",
   "metadata": {},
   "source": [
    "## 5. Análise Comparativa dos Resultados\n",
    "\n",
    "### 5.1 Discussão dos Resultados\n",
    "\n",
    "**Dataset 2 (MinTemp vs MaxTemp):**\n",
    "- Espera-se o melhor desempenho devido à forte relação física conhecida\n",
    "- Temperaturas mínima e máxima têm correlação naturalmente alta\n",
    "\n",
    "**Dataset 1 (Umidade vs Temperatura):**\n",
    "- Relação mais complexa e influenciada por múltiplos fatores\n",
    "- Possível comportamento não-linear em extremos de temperatura\n",
    "\n",
    "**Dataset 3 (Salinity vs Temperatura):**\n",
    "- Dinâmica oceanográfica complexa\n",
    "- Pode exigir transformações ou modelos mais sofisticados"
   ]
  },
  {
   "cell_type": "markdown",
   "metadata": {},
   "source": [
    "## 6. Conclusões\n",
    "\n",
    "### 6.1 Principais Conclusões\n",
    "\n",
    "1. **Eficácia do Modelo**: A Regressão Linear mostrou-se adequada para relações lineares bem definidas, como entre temperaturas mínima e máxima.\n",
    "\n",
    "2. **Importância do Domínio**: O desempenho varia significativamente conforme a natureza física da relação entre as variáveis.\n",
    "\n",
    "3. **Limitações Identificadas**: Para relações não-lineares, modelos mais complexos podem ser necessários.\n",
    "\n",
    "- Implementação de pipeline reprodutível para análise comparativa\n",
    "- Demonstração prática da importância da análise exploratória preliminar\n",
    "- Base sólida para experimentos futuros com modelos mais avançados\n"
   ]
  },
  {
   "cell_type": "markdown",
   "metadata": {},
   "source": [
    "## Fluxo Completo do Pipeline Implementado\n",
    "\n",
    "```\n",
    "1. CARREGAMENTO → Dados brutos do CSV\n",
    "2. PRÉ-PROCESSAMENTO → Conversão de unidades e limpeza\n",
    "3. PREPARAÇÃO → Separação em features e target\n",
    "4. DIVISÃO → Treino (70%) e teste (30%)\n",
    "5. TREINAMENTO → Ajuste do modelo linear\n",
    "6. AVALIAÇÃO → Métricas e visualizações\n",
    "7. DOCUMENTAÇÃO → Salvamento dos resultados\n",
    "```\n",
    "\n"
   ]
  }
 ],
 "metadata": {
  "kernelspec": {
   "display_name": "Python 3",
   "language": "python",
   "name": "python3"
  },
  "language_info": {
   "codemirror_mode": {
    "name": "ipython",
    "version": 3
   },
   "file_extension": ".py",
   "mimetype": "text/x-python",
   "name": "python",
   "nbconvert_exporter": "python",
   "pygments_lexer": "ipython3",
   "version": "3.8.0"
  }
 },
 "nbformat": 4,
 "nbformat_minor": 4
}
