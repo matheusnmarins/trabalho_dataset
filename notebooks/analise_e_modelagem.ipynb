{
 "cells": [
  {
   "cell_type": "markdown",
   "metadata": {},
   "source": [
    "# Notebook Explicativo: Análise e Modelagem de Dados\n",
    "\n",
    "## 1. Introdução\n",
    "Este notebook demonstra um fluxo completo de análise de dados, desde o carregamento e pré-processamento até a modelagem preditiva usando regressão linear. Vamos trabalhar com três datasets diferentes, aplicar transformações necessárias e avaliar o desempenho dos modelos."
   ]
  },
  {
   "cell_type": "markdown",
   "metadata": {},
   "source": [
    "## 2. Importar Bibliotecas"
   ]
  },
  {
   "cell_type": "code",
   "execution_count": null,
   "metadata": {},
   "outputs": [],
   "source": [
    "import os\n",
    "import pandas as pd\n",
    "import matplotlib.pyplot as plt\n",
    "from sklearn.linear_model import LinearRegression\n",
    "from sklearn.model_selection import train_test_split\n",
    "from sklearn.metrics import mean_absolute_error, mean_squared_error, r2_score"
   ]
  },
  {
   "cell_type": "markdown",
   "metadata": {},
   "source": [
    "**Explicação:** Importamos as bibliotecas essenciais para:\n",
    "- `os`: manipulação de caminhos de arquivos\n",
    "- `pandas`: manipulação e análise de dados\n",
    "- `matplotlib`: visualização de gráficos\n",
    "- `scikit-learn`: machine learning (modelo, divisão de dados, métricas)"
   ]
  },
  {
   "cell_type": "markdown",
   "metadata": {},
   "source": [
    "## 3. Funções Auxiliares"
   ]
  },
  {
   "cell_type": "markdown",
   "metadata": {},
   "source": [
    "### Função: `preprocess_temperature`"
   ]
  },
  {
   "cell_type": "code",
   "execution_count": null,
   "metadata": {},
   "outputs": [],
   "source": [
    "def preprocess_temperature(df, temp_col, unit_col):\n",
    "    def convert(row):\n",
    "        if unit_col and row.get(unit_col, \"\").lower() in ['f', 'fahrenheit']:\n",
    "            return (row[temp_col] - 32) * 5/9\n",
    "        return row[temp_col]\n",
    "    df[temp_col] = df.apply(convert, axis=1)\n",
    "    return df"
   ]
  },
  {
   "cell_type": "markdown",
   "metadata": {},
   "source": [
    "**Explicação:** Esta função converte temperaturas de Fahrenheit para Celsius quando necessário. Ela verifica a coluna de unidade e aplica a fórmula de conversão apenas para valores em Fahrenheit."
   ]
  },
  {
   "cell_type": "markdown",
   "metadata": {},
   "source": [
    "### Função: `load_dataset`"
   ]
  },
  {
   "cell_type": "code",
   "execution_count": null,
   "metadata": {},
   "outputs": [],
   "source": [
    "def load_dataset(path, conversions=None):\n",
    "    df = pd.read_csv(path, low_memory=False)\n",
    "    if conversions:\n",
    "        for temp_col, unit_col in conversions:\n",
    "            if unit_col and unit_col in df.columns:\n",
    "                df = preprocess_temperature(df, temp_col, unit_col)\n",
    "    return df"
   ]
  },
  {
   "cell_type": "markdown",
   "metadata": {},
   "source": [
    "**Explicação:** Carrega um dataset CSV e aplica conversões de temperatura especificadas. O parâmetro `low_memory=False` evita problemas com tipos de dados mistos."
   ]
  },
  {
   "cell_type": "markdown",
   "metadata": {},
   "source": [
    "### Função: `train_and_evaluate`"
   ]
  },
  {
   "cell_type": "code",
   "execution_count": null,
   "metadata": {},
   "outputs": [],
   "source": [
    "def train_and_evaluate(df, feature_col, target_col, dataset_name, save_path=None):\n",
    "    # Remove linhas com valores missing nas colunas relevantes\n",
    "    df = df.dropna(subset=[feature_col, target_col])\n",
    "    \n",
    "    # Prepara features (X) e target (y)\n",
    "    X = df[[feature_col]].values\n",
    "    y = df[target_col].values\n",
    "\n",
    "    # Divide os dados em treino (70%) e teste (30%)\n",
    "    X_train, X_test, y_train, y_test = train_test_split(X, y, test_size=0.3, random_state=42)\n",
    "\n",
    "    # Cria e treina o modelo de regressão linear\n",
    "    model = LinearRegression()\n",
    "    model.fit(X_train, y_train)\n",
    "    \n",
    "    # Faz previsões no conjunto de teste\n",
    "    y_pred = model.predict(X_test)\n",
    "\n",
    "    # Calcula métricas de avaliação\n",
    "    mae = mean_absolute_error(y_test, y_pred)\n",
    "    mse = mean_squared_error(y_test, y_pred)\n",
    "    r2 = r2_score(y_test, y_pred)\n",
    "\n",
    "    # Exibe resultados\n",
    "    print(f\"\\n=== Resultados para {dataset_name} ===\")\n",
    "    print(f\"MAE: {mae:.3f}\")\n",
    "    print(f\"MSE: {mse:.3f}\")\n",
    "    print(f\"R² : {r2:.3f}\")\n",
    "\n",
    "    # Cria gráfico de dispersão comparando valores reais vs previstos\n",
    "    plt.scatter(y_test, y_pred, alpha=0.6)\n",
    "    plt.xlabel(\"Valores Reais\")\n",
    "    plt.ylabel(\"Valores Previstos\")\n",
    "    plt.title(f\"Reais vs Previstos - {dataset_name}\")\n",
    "    plt.plot([y_test.min(), y_test.max()], [y_test.min(), y_test.max()], 'r--')\n",
    "\n",
    "    # Salva o gráfico se um caminho for fornecido\n",
    "    if save_path:\n",
    "        plt.savefig(save_path, bbox_inches=\"tight\")\n",
    "    plt.show()\n",
    "\n",
    "    return {\"MAE\": mae, \"MSE\": mse, \"R2\": r2}"
   ]
  },
  {
   "cell_type": "markdown",
   "metadata": {},
   "source": [
    "**Explicação:** Esta função completa executa todo o pipeline de modelagem:\n",
    "1. **Limpeza**: Remove valores missing\n",
    "2. **Preparação**: Separa features e target\n",
    "3. **Divisão**: Separa dados em treino e teste\n",
    "4. **Treinamento**: Ajusta o modelo de regressão linear\n",
    "5. **Avaliação**: Calcula métricas de performance\n",
    "6. **Visualização**: Gera gráfico comparativo"
   ]
  },
  {
   "cell_type": "markdown",
   "metadata": {},
   "source": [
    "## 4. Configuração de Caminhos"
   ]
  },
  {
   "cell_type": "code",
   "execution_count": null,
   "metadata": {},
   "outputs": [],
   "source": [
    "DATA_PATH = \"data\"\n",
    "RESULTS_PATH = os.path.join(\"results\", \"graficos\")\n",
    "os.makedirs(RESULTS_PATH, exist_ok=True)"
   ]
  },
  {
   "cell_type": "markdown",
   "metadata": {},
   "source": [
    "**Explicação:** Configura os diretórios para dados e resultados. `os.makedirs(..., exist_ok=True)` garante que as pastas sejam criadas se não existirem."
   ]
  },
  {
   "cell_type": "markdown",
   "metadata": {},
   "source": [
    "## 5. Execução por Dataset"
   ]
  },
  {
   "cell_type": "markdown",
   "metadata": {},
   "source": [
    "### Dataset 1: Umidade vs Temperatura"
   ]
  },
  {
   "cell_type": "code",
   "execution_count": null,
   "metadata": {},
   "outputs": [],
   "source": [
    "df1 = load_dataset(\n",
    "    os.path.join(DATA_PATH, \"ds_hum_vs_temp_dirty.csv\"), \n",
    "    conversions=[(\"temperatura\", \"unidade_temperatura\")]\n",
    ")\n",
    "metrics1 = train_and_evaluate(\n",
    "    df1, \"temperatura\", \"humidade\", \"Umidade vs Temperatura\", \n",
    "    save_path=os.path.join(RESULTS_PATH, \"umidade_vs_temp.png\")\n",
    ")"
   ]
  },
  {
   "cell_type": "markdown",
   "metadata": {},
   "source": [
    "**Explicação:** \n",
    "- **Objetivo**: Prever umidade com base na temperatura\n",
    "- **Pré-processamento**: Converte temperatura se estiver em Fahrenheit\n",
    "- **Feature**: temperatura\n",
    "- **Target**: humidade"
   ]
  },
  {
   "cell_type": "markdown",
   "metadata": {},
   "source": [
    "### Dataset 2: MinTemp vs MaxTemp"
   ]
  },
  {
   "cell_type": "code",
   "execution_count": null,
   "metadata": {},
   "outputs": [],
   "source": [
    "df2 = load_dataset(\n",
    "    os.path.join(DATA_PATH, \"ds_min_temp_vs_max_temp_raw.csv\"), \n",
    "    conversions=[(\"MinTemp\", None), (\"MaxTemp\", None)]\n",
    ")\n",
    "metrics2 = train_and_evaluate(\n",
    "    df2, \"MinTemp\", \"MaxTemp\", \"MinTemp vs MaxTemp\", \n",
    "    save_path=os.path.join(RESULTS_PATH, \"min_vs_max.png\")\n",
    ")"
   ]
  },
  {
   "cell_type": "markdown",
   "metadata": {},
   "source": [
    "**Explicação:** \n",
    "- **Objetivo**: Prever temperatura máxima com base na temperatura mínima\n",
    "- **Pré-processamento**: Sem conversão de unidades (None)\n",
    "- **Feature**: MinTemp (temperatura mínima)\n",
    "- **Target**: MaxTemp (temperatura máxima)"
   ]
  },
  {
   "cell_type": "markdown",
   "metadata": {},
   "source": [
    "### Dataset 3: Salinity vs Temperatura"
   ]
  },
  {
   "cell_type": "code",
   "execution_count": null,
   "metadata": {},
   "outputs": [],
   "source": [
    "df3 = load_dataset(\n",
    "    os.path.join(DATA_PATH, \"ds_salinity_vs_temp_raw.csv\"), \n",
    "    conversions=[(\"T_degC\", None)]\n",
    ")\n",
    "metrics3 = train_and_evaluate(df3, \"Salnty\", \"T_degC\", \"Salinity vs Temperatura\")"
   ]
  },
  {
   "cell_type": "markdown",
   "metadata": {},
   "source": [
    "**Explicação:** \n",
    "- **Objetivo**: Prever temperatura da água com base na salinidade\n",
    "- **Feature**: Salnty (salinidade)\n",
    "- **Target**: T_degC (temperatura em Celsius)"
   ]
  },
  {
   "cell_type": "markdown",
   "metadata": {},
   "source": [
    "## 6. Salvar Métricas"
   ]
  },
  {
   "cell_type": "code",
   "execution_count": null,
   "metadata": {},
   "outputs": [],
   "source": [
    "with open(os.path.join(\"results\", \"metrics.txt\"), \"w\") as f:\n",
    "    f.write(\"Resultados dos Modelos:\\n\")\n",
    "    f.write(f\"Dataset 1: {metrics1}\\n\")\n",
    "    f.write(f\"Dataset 2: {metrics2}\\n\")\n",
    "    f.write(f\"Dataset 3: {metrics3}\\n\")"
   ]
  },
  {
   "cell_type": "markdown",
   "metadata": {},
   "source": [
    "**Explicação:** Salva todas as métricas em um arquivo texto para documentação e análise posterior."
   ]
  }
 ],
 "metadata": {
  "kernelspec": {
   "display_name": "Python 3",
   "language": "python",
   "name": "python3"
  },
  "language_info": {
   "codemirror_mode": {
    "name": "ipython",
    "version": 3
   },
   "file_extension": ".py",
   "mimetype": "text/x-python",
   "name": "python",
   "nbconvert_exporter": "python",
   "pygments_lexer": "ipython3",
   "version": "3.8.0"
  }
 },
 "nbformat": 4,
 "nbformat_minor": 4
}